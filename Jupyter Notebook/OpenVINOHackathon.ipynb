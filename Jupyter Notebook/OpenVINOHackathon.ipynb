{
  "nbformat": 4,
  "nbformat_minor": 0,
  "metadata": {
    "colab": {
      "name": "OpenVINOHackathon.ipynb",
      "provenance": [],
      "collapsed_sections": []
    },
    "kernelspec": {
      "name": "python3",
      "display_name": "Python 3"
    },
    "accelerator": "GPU"
  },
  "cells": [
    {
      "cell_type": "code",
      "metadata": {
        "id": "C27XsLNoGzTg",
        "colab_type": "code",
        "outputId": "9f24feb1-07c0-4411-e349-8a590b05f6ba",
        "colab": {
          "base_uri": "https://localhost:8080/",
          "height": 1000
        }
      },
      "source": [
        "import matplotlib\n",
        "matplotlib.use(\"Agg\")\n",
        " \n",
        "from sklearn.preprocessing import LabelBinarizer\n",
        "from sklearn.model_selection import train_test_split\n",
        "from sklearn.metrics import classification_report\n",
        "from keras.models import Sequential\n",
        "from keras.layers import Conv2D, MaxPooling2D, GlobalAveragePooling2D\n",
        "from keras.layers import Dropout, Flatten, Dense\n",
        "from keras.optimizers import SGD\n",
        "from imutils import paths\n",
        "import matplotlib.pyplot as plt\n",
        "import numpy as np\n",
        "import argparse\n",
        "import keras\n",
        "import random\n",
        "import pickle\n",
        "import cv2\n",
        "import os \n",
        "\n",
        "print(\"[INFO] loading images...\")\n",
        "data = []\n",
        "labels = []\n",
        " \n",
        "imagePaths = sorted(list(paths.list_images(\"/content/drive/My Drive/dataset/images\")))\n",
        "#imagePaths = sorted(list(paths.list_images(\"/content/drive/My Drive/dataset/checkcode\")))\n",
        "random.seed(42)\n",
        "random.shuffle(imagePaths)\n",
        "\n",
        "for imagePath in imagePaths:\n",
        "    image = cv2.imread(imagePath)\n",
        "    image = cv2.resize(image, (224, 224))\n",
        "    data.append(image)\n",
        " \n",
        "    label = imagePath.split(os.path.sep)[-2]\n",
        "    if label == 'benign':\n",
        "      labels.append((1, 0))\n",
        "    else:\n",
        "      labels.append((0, 1))\n",
        "\n",
        "print(\"Images done\")\n",
        "\n",
        "data = np.array(data, dtype=\"float\") / 255.0\n",
        "labels = np.array(labels)\n",
        "\n",
        "(trainX, testX, trainY, testY) = train_test_split(data, labels, test_size=0.2, random_state=42)\n",
        "print(trainX.shape)\n",
        "print(testX.shape)\n",
        "print(trainY.shape)\n",
        "print(testY.shape)\n",
        "\n",
        "lb = LabelBinarizer()\n",
        "trainY = lb.fit_transform(trainY)\n",
        "testY = lb.transform(testY)\n",
        "\n",
        "model = Sequential()\n",
        "model.add(Conv2D(32, kernel_size=(3,3), activation='relu', input_shape=(224,224,3)))\n",
        "model.add(Conv2D(64, (3,3), activation='relu'))\n",
        "model.add(MaxPooling2D(pool_size=(2,2)))\n",
        "model.add(Dropout(0.25))\n",
        "model.add(Flatten())\n",
        "model.add(Dense(128, activation='relu'))\n",
        "model.add(Dropout(0.50))\n",
        "model.add(Dense(2, activation='sigmoid'))\n",
        "\n",
        "opt = keras.optimizers.Adam(lr=0.0001, beta_1=0.9, beta_2=0.999, epsilon=1e-08, decay=0.0)\n",
        "model.compile(optimizer=opt, loss='binary_crossentropy', metrics=['accuracy'])\n",
        "print(\"SUM\")\n",
        "model.summary()\n",
        "H = model.fit(trainX, trainY, validation_data=(testX, testY), epochs=40, batch_size=32) \n",
        "\n",
        "print(\"[INFO] serializing network and label binarizer...\")\n",
        "model.save(\"/content/drive/My Drive/dataset/model/model.h5\")\n",
        "f = open(\"/content/drive/My Drive/dataset/bin/model.bin\", \"wb\")\n",
        "f.write(pickle.dumps(lb))\n",
        "f.close()\n"
      ],
      "execution_count": 0,
      "outputs": [
        {
          "output_type": "stream",
          "text": [
            "Using TensorFlow backend.\n"
          ],
          "name": "stderr"
        },
        {
          "output_type": "display_data",
          "data": {
            "text/html": [
              "<p style=\"color: red;\">\n",
              "The default version of TensorFlow in Colab will soon switch to TensorFlow 2.x.<br>\n",
              "We recommend you <a href=\"https://www.tensorflow.org/guide/migrate\" target=\"_blank\">upgrade</a> now \n",
              "or ensure your notebook will continue to use TensorFlow 1.x via the <code>%tensorflow_version 1.x</code> magic:\n",
              "<a href=\"https://colab.research.google.com/notebooks/tensorflow_version.ipynb\" target=\"_blank\">more info</a>.</p>\n"
            ],
            "text/plain": [
              "<IPython.core.display.HTML object>"
            ]
          },
          "metadata": {
            "tags": []
          }
        },
        {
          "output_type": "stream",
          "text": [
            "[INFO] loading images...\n",
            "Images done\n",
            "(1517, 224, 224, 3)\n",
            "(380, 224, 224, 3)\n",
            "(1517, 2)\n",
            "(380, 2)\n",
            "WARNING:tensorflow:From /usr/local/lib/python3.6/dist-packages/keras/backend/tensorflow_backend.py:66: The name tf.get_default_graph is deprecated. Please use tf.compat.v1.get_default_graph instead.\n",
            "\n",
            "WARNING:tensorflow:From /usr/local/lib/python3.6/dist-packages/keras/backend/tensorflow_backend.py:541: The name tf.placeholder is deprecated. Please use tf.compat.v1.placeholder instead.\n",
            "\n",
            "WARNING:tensorflow:From /usr/local/lib/python3.6/dist-packages/keras/backend/tensorflow_backend.py:4432: The name tf.random_uniform is deprecated. Please use tf.random.uniform instead.\n",
            "\n",
            "WARNING:tensorflow:From /usr/local/lib/python3.6/dist-packages/keras/backend/tensorflow_backend.py:4267: The name tf.nn.max_pool is deprecated. Please use tf.nn.max_pool2d instead.\n",
            "\n",
            "WARNING:tensorflow:From /usr/local/lib/python3.6/dist-packages/keras/backend/tensorflow_backend.py:148: The name tf.placeholder_with_default is deprecated. Please use tf.compat.v1.placeholder_with_default instead.\n",
            "\n",
            "WARNING:tensorflow:From /usr/local/lib/python3.6/dist-packages/keras/backend/tensorflow_backend.py:3733: calling dropout (from tensorflow.python.ops.nn_ops) with keep_prob is deprecated and will be removed in a future version.\n",
            "Instructions for updating:\n",
            "Please use `rate` instead of `keep_prob`. Rate should be set to `rate = 1 - keep_prob`.\n",
            "WARNING:tensorflow:From /usr/local/lib/python3.6/dist-packages/keras/optimizers.py:793: The name tf.train.Optimizer is deprecated. Please use tf.compat.v1.train.Optimizer instead.\n",
            "\n",
            "WARNING:tensorflow:From /usr/local/lib/python3.6/dist-packages/keras/backend/tensorflow_backend.py:3657: The name tf.log is deprecated. Please use tf.math.log instead.\n",
            "\n",
            "WARNING:tensorflow:From /usr/local/lib/python3.6/dist-packages/tensorflow_core/python/ops/nn_impl.py:183: where (from tensorflow.python.ops.array_ops) is deprecated and will be removed in a future version.\n",
            "Instructions for updating:\n",
            "Use tf.where in 2.0, which has the same broadcast rule as np.where\n",
            "SUM\n",
            "Model: \"sequential_1\"\n",
            "_________________________________________________________________\n",
            "Layer (type)                 Output Shape              Param #   \n",
            "=================================================================\n",
            "conv2d_1 (Conv2D)            (None, 222, 222, 32)      896       \n",
            "_________________________________________________________________\n",
            "conv2d_2 (Conv2D)            (None, 220, 220, 64)      18496     \n",
            "_________________________________________________________________\n",
            "max_pooling2d_1 (MaxPooling2 (None, 110, 110, 64)      0         \n",
            "_________________________________________________________________\n",
            "dropout_1 (Dropout)          (None, 110, 110, 64)      0         \n",
            "_________________________________________________________________\n",
            "flatten_1 (Flatten)          (None, 774400)            0         \n",
            "_________________________________________________________________\n",
            "dense_1 (Dense)              (None, 128)               99123328  \n",
            "_________________________________________________________________\n",
            "dropout_2 (Dropout)          (None, 128)               0         \n",
            "_________________________________________________________________\n",
            "dense_2 (Dense)              (None, 2)                 258       \n",
            "=================================================================\n",
            "Total params: 99,142,978\n",
            "Trainable params: 99,142,978\n",
            "Non-trainable params: 0\n",
            "_________________________________________________________________\n",
            "WARNING:tensorflow:From /usr/local/lib/python3.6/dist-packages/keras/backend/tensorflow_backend.py:1033: The name tf.assign_add is deprecated. Please use tf.compat.v1.assign_add instead.\n",
            "\n",
            "WARNING:tensorflow:From /usr/local/lib/python3.6/dist-packages/keras/backend/tensorflow_backend.py:1020: The name tf.assign is deprecated. Please use tf.compat.v1.assign instead.\n",
            "\n",
            "WARNING:tensorflow:From /usr/local/lib/python3.6/dist-packages/keras/backend/tensorflow_backend.py:3005: The name tf.Session is deprecated. Please use tf.compat.v1.Session instead.\n",
            "\n",
            "Train on 1517 samples, validate on 380 samples\n",
            "Epoch 1/40\n",
            "WARNING:tensorflow:From /usr/local/lib/python3.6/dist-packages/keras/backend/tensorflow_backend.py:190: The name tf.get_default_session is deprecated. Please use tf.compat.v1.get_default_session instead.\n",
            "\n",
            "WARNING:tensorflow:From /usr/local/lib/python3.6/dist-packages/keras/backend/tensorflow_backend.py:197: The name tf.ConfigProto is deprecated. Please use tf.compat.v1.ConfigProto instead.\n",
            "\n",
            "WARNING:tensorflow:From /usr/local/lib/python3.6/dist-packages/keras/backend/tensorflow_backend.py:207: The name tf.global_variables is deprecated. Please use tf.compat.v1.global_variables instead.\n",
            "\n",
            "WARNING:tensorflow:From /usr/local/lib/python3.6/dist-packages/keras/backend/tensorflow_backend.py:216: The name tf.is_variable_initialized is deprecated. Please use tf.compat.v1.is_variable_initialized instead.\n",
            "\n",
            "WARNING:tensorflow:From /usr/local/lib/python3.6/dist-packages/keras/backend/tensorflow_backend.py:223: The name tf.variables_initializer is deprecated. Please use tf.compat.v1.variables_initializer instead.\n",
            "\n",
            "1517/1517 [==============================] - 25s 16ms/step - loss: 0.9052 - acc: 0.8682 - val_loss: 0.2283 - val_acc: 0.8789\n",
            "Epoch 2/40\n",
            "1517/1517 [==============================] - 10s 6ms/step - loss: 0.1658 - acc: 0.9173 - val_loss: 0.1266 - val_acc: 0.9355\n",
            "Epoch 3/40\n",
            "1517/1517 [==============================] - 10s 6ms/step - loss: 0.1215 - acc: 0.9387 - val_loss: 0.1087 - val_acc: 0.9553\n",
            "Epoch 4/40\n",
            "1517/1517 [==============================] - 10s 6ms/step - loss: 0.1053 - acc: 0.9466 - val_loss: 0.0947 - val_acc: 0.9526\n",
            "Epoch 5/40\n",
            "1517/1517 [==============================] - 10s 6ms/step - loss: 0.0943 - acc: 0.9552 - val_loss: 0.0931 - val_acc: 0.9592\n",
            "Epoch 6/40\n",
            "1517/1517 [==============================] - 10s 6ms/step - loss: 0.0889 - acc: 0.9585 - val_loss: 0.0859 - val_acc: 0.9566\n",
            "Epoch 7/40\n",
            "1517/1517 [==============================] - 10s 6ms/step - loss: 0.0812 - acc: 0.9611 - val_loss: 0.0727 - val_acc: 0.9697\n",
            "Epoch 8/40\n",
            "1517/1517 [==============================] - 10s 6ms/step - loss: 0.0711 - acc: 0.9647 - val_loss: 0.0822 - val_acc: 0.9645\n",
            "Epoch 9/40\n",
            "1517/1517 [==============================] - 10s 6ms/step - loss: 0.0723 - acc: 0.9664 - val_loss: 0.0769 - val_acc: 0.9579\n",
            "Epoch 10/40\n",
            "1517/1517 [==============================] - 10s 6ms/step - loss: 0.0690 - acc: 0.9661 - val_loss: 0.0742 - val_acc: 0.9632\n",
            "Epoch 11/40\n",
            "1517/1517 [==============================] - 10s 6ms/step - loss: 0.0636 - acc: 0.9720 - val_loss: 0.0599 - val_acc: 0.9789\n",
            "Epoch 12/40\n",
            "1517/1517 [==============================] - 10s 6ms/step - loss: 0.0611 - acc: 0.9730 - val_loss: 0.0606 - val_acc: 0.9789\n",
            "Epoch 13/40\n",
            "1517/1517 [==============================] - 10s 6ms/step - loss: 0.0536 - acc: 0.9756 - val_loss: 0.0670 - val_acc: 0.9671\n",
            "Epoch 14/40\n",
            "1517/1517 [==============================] - 10s 6ms/step - loss: 0.0571 - acc: 0.9730 - val_loss: 0.0549 - val_acc: 0.9789\n",
            "Epoch 15/40\n",
            "1517/1517 [==============================] - 10s 6ms/step - loss: 0.0563 - acc: 0.9726 - val_loss: 0.0636 - val_acc: 0.9684\n",
            "Epoch 16/40\n",
            "1517/1517 [==============================] - 10s 6ms/step - loss: 0.0483 - acc: 0.9789 - val_loss: 0.0479 - val_acc: 0.9842\n",
            "Epoch 17/40\n",
            "1517/1517 [==============================] - 10s 6ms/step - loss: 0.0555 - acc: 0.9713 - val_loss: 0.0572 - val_acc: 0.9816\n",
            "Epoch 18/40\n",
            "1517/1517 [==============================] - 10s 6ms/step - loss: 0.0447 - acc: 0.9815 - val_loss: 0.0538 - val_acc: 0.9803\n",
            "Epoch 19/40\n",
            "1517/1517 [==============================] - 10s 6ms/step - loss: 0.0460 - acc: 0.9766 - val_loss: 0.0494 - val_acc: 0.9855\n",
            "Epoch 20/40\n",
            "1517/1517 [==============================] - 10s 6ms/step - loss: 0.0476 - acc: 0.9806 - val_loss: 0.0711 - val_acc: 0.9605\n",
            "Epoch 21/40\n",
            "1517/1517 [==============================] - 10s 6ms/step - loss: 0.0463 - acc: 0.9796 - val_loss: 0.0680 - val_acc: 0.9605\n",
            "Epoch 22/40\n",
            "1517/1517 [==============================] - 10s 6ms/step - loss: 0.0483 - acc: 0.9782 - val_loss: 0.0710 - val_acc: 0.9605\n",
            "Epoch 23/40\n",
            "1517/1517 [==============================] - 10s 6ms/step - loss: 0.0405 - acc: 0.9852 - val_loss: 0.0578 - val_acc: 0.9763\n",
            "Epoch 24/40\n",
            "1517/1517 [==============================] - 10s 6ms/step - loss: 0.0396 - acc: 0.9855 - val_loss: 0.0582 - val_acc: 0.9750\n",
            "Epoch 25/40\n",
            "1517/1517 [==============================] - 10s 6ms/step - loss: 0.0349 - acc: 0.9871 - val_loss: 0.0464 - val_acc: 0.9829\n",
            "Epoch 26/40\n",
            "1517/1517 [==============================] - 10s 6ms/step - loss: 0.0388 - acc: 0.9822 - val_loss: 0.0605 - val_acc: 0.9776\n",
            "Epoch 27/40\n",
            "1517/1517 [==============================] - 10s 6ms/step - loss: 0.0336 - acc: 0.9865 - val_loss: 0.0731 - val_acc: 0.9658\n",
            "Epoch 28/40\n",
            "1517/1517 [==============================] - 10s 6ms/step - loss: 0.0319 - acc: 0.9852 - val_loss: 0.0648 - val_acc: 0.9737\n",
            "Epoch 29/40\n",
            "1517/1517 [==============================] - 10s 6ms/step - loss: 0.0320 - acc: 0.9881 - val_loss: 0.0569 - val_acc: 0.9763\n",
            "Epoch 30/40\n",
            "1517/1517 [==============================] - 10s 6ms/step - loss: 0.0300 - acc: 0.9878 - val_loss: 0.0609 - val_acc: 0.9658\n",
            "Epoch 31/40\n",
            "1517/1517 [==============================] - 10s 6ms/step - loss: 0.0302 - acc: 0.9881 - val_loss: 0.0514 - val_acc: 0.9816\n",
            "Epoch 32/40\n",
            "1517/1517 [==============================] - 10s 6ms/step - loss: 0.0328 - acc: 0.9878 - val_loss: 0.0493 - val_acc: 0.9816\n",
            "Epoch 33/40\n",
            "1517/1517 [==============================] - 10s 6ms/step - loss: 0.0341 - acc: 0.9875 - val_loss: 0.0511 - val_acc: 0.9855\n",
            "Epoch 34/40\n",
            "1517/1517 [==============================] - 10s 6ms/step - loss: 0.0273 - acc: 0.9924 - val_loss: 0.0484 - val_acc: 0.9829\n",
            "Epoch 35/40\n",
            "1517/1517 [==============================] - 10s 6ms/step - loss: 0.0252 - acc: 0.9888 - val_loss: 0.0539 - val_acc: 0.9763\n",
            "Epoch 36/40\n",
            "1517/1517 [==============================] - 10s 6ms/step - loss: 0.0221 - acc: 0.9918 - val_loss: 0.0539 - val_acc: 0.9816\n",
            "Epoch 37/40\n",
            "1517/1517 [==============================] - 10s 6ms/step - loss: 0.0212 - acc: 0.9924 - val_loss: 0.0682 - val_acc: 0.9724\n",
            "Epoch 38/40\n",
            "1517/1517 [==============================] - 10s 6ms/step - loss: 0.0208 - acc: 0.9934 - val_loss: 0.0604 - val_acc: 0.9776\n",
            "Epoch 39/40\n",
            "1517/1517 [==============================] - 10s 6ms/step - loss: 0.0208 - acc: 0.9918 - val_loss: 0.0512 - val_acc: 0.9816\n",
            "Epoch 40/40\n",
            "1517/1517 [==============================] - 10s 6ms/step - loss: 0.0190 - acc: 0.9904 - val_loss: 0.0584 - val_acc: 0.9776\n",
            "[INFO] serializing network and label binarizer...\n"
          ],
          "name": "stdout"
        }
      ]
    },
    {
      "cell_type": "code",
      "metadata": {
        "id": "GJY_qTh3V2yP",
        "colab_type": "code",
        "outputId": "d5011a9a-b881-4b2a-b614-765e0038a887",
        "colab": {
          "base_uri": "https://localhost:8080/",
          "height": 854
        }
      },
      "source": [
        "import coremltools\n",
        "import numpy\n",
        "from keras.datasets import mnist\n",
        "from keras.models import Sequential\n",
        "from keras.layers import Dense\n",
        "from keras.layers import Dropout\n",
        "from keras.utils import np_utils\n",
        "#from keras.models import load_model\n",
        "import keras\n",
        "import tensorflow as tf\n",
        "\n",
        "def convert_model(model):\n",
        "\tprint('converting...')\n",
        "\tcoreml_model = coremltools.converters.keras.convert(model,input_names=['image'], class_labels=['Melanocytic nevi', 'Melanoma', 'Benign keratosis-like lesions', 'Basal cell carcinoma', 'Actinic keratoses', 'Vascular lesions', 'Dermatofibroma'])\n",
        "\tcoreml_model.author = 'YOUR NAME'\n",
        "\tcoreml_model.license = 'MIT'\n",
        "\tcoreml_model.short_description = 'Reads a handwritten digit. The model is based on keras mnist examples here. https://github.com/fchollet/keras/blob/master/examples/mnist_cnn.py but altered to strictly set up channels last as input_shape.'\n",
        "\tcoreml_model.input_description['image'] = 'A 28x28 pixel Image'\n",
        "\tcoreml_model.output_description['output1'] = 'A one-hot Multiarray were the index with the biggest float value (0-1) is the recognized digit. '\n",
        "\tcoreml_model.save('TypeCancer.mlmodel')\n",
        "\tprint('model converted')\n",
        "\n",
        "\n",
        "import os.path\n",
        "if os.path.isfile('/content/drive/My Drive/dataset/model.h5'):\n",
        "\tmodel = tf.keras.models.load_model('/content/drive/My Drive/dataset/model.h5')\n",
        "\tconvert_model(model)\n",
        "else:\n",
        "\tprint('no model found')"
      ],
      "execution_count": 0,
      "outputs": [
        {
          "output_type": "stream",
          "text": [
            "WARNING:tensorflow:From /usr/local/lib/python3.6/dist-packages/tensorflow_core/python/ops/init_ops.py:97: calling GlorotUniform.__init__ (from tensorflow.python.ops.init_ops) with dtype is deprecated and will be removed in a future version.\n",
            "Instructions for updating:\n",
            "Call initializer instance with the dtype argument instead of passing it to the constructor\n"
          ],
          "name": "stdout"
        },
        {
          "output_type": "stream",
          "text": [
            "WARNING:tensorflow:From /usr/local/lib/python3.6/dist-packages/tensorflow_core/python/ops/init_ops.py:97: calling GlorotUniform.__init__ (from tensorflow.python.ops.init_ops) with dtype is deprecated and will be removed in a future version.\n",
            "Instructions for updating:\n",
            "Call initializer instance with the dtype argument instead of passing it to the constructor\n"
          ],
          "name": "stderr"
        },
        {
          "output_type": "stream",
          "text": [
            "WARNING:tensorflow:From /usr/local/lib/python3.6/dist-packages/tensorflow_core/python/ops/init_ops.py:97: calling Zeros.__init__ (from tensorflow.python.ops.init_ops) with dtype is deprecated and will be removed in a future version.\n",
            "Instructions for updating:\n",
            "Call initializer instance with the dtype argument instead of passing it to the constructor\n"
          ],
          "name": "stdout"
        },
        {
          "output_type": "stream",
          "text": [
            "WARNING:tensorflow:From /usr/local/lib/python3.6/dist-packages/tensorflow_core/python/ops/init_ops.py:97: calling Zeros.__init__ (from tensorflow.python.ops.init_ops) with dtype is deprecated and will be removed in a future version.\n",
            "Instructions for updating:\n",
            "Call initializer instance with the dtype argument instead of passing it to the constructor\n"
          ],
          "name": "stderr"
        },
        {
          "output_type": "stream",
          "text": [
            "WARNING:tensorflow:From /usr/local/lib/python3.6/dist-packages/tensorflow_core/python/ops/resource_variable_ops.py:1630: calling BaseResourceVariable.__init__ (from tensorflow.python.ops.resource_variable_ops) with constraint is deprecated and will be removed in a future version.\n",
            "Instructions for updating:\n",
            "If using Keras pass *_constraint arguments to layers.\n"
          ],
          "name": "stdout"
        },
        {
          "output_type": "stream",
          "text": [
            "WARNING:tensorflow:From /usr/local/lib/python3.6/dist-packages/tensorflow_core/python/ops/resource_variable_ops.py:1630: calling BaseResourceVariable.__init__ (from tensorflow.python.ops.resource_variable_ops) with constraint is deprecated and will be removed in a future version.\n",
            "Instructions for updating:\n",
            "If using Keras pass *_constraint arguments to layers.\n"
          ],
          "name": "stderr"
        },
        {
          "output_type": "stream",
          "text": [
            "WARNING:tensorflow:Large dropout rate: 0.55 (>0.5). In TensorFlow 2.x, dropout() uses dropout rate instead of keep_prob. Please ensure that this is intended.\n"
          ],
          "name": "stdout"
        },
        {
          "output_type": "stream",
          "text": [
            "WARNING:tensorflow:Large dropout rate: 0.55 (>0.5). In TensorFlow 2.x, dropout() uses dropout rate instead of keep_prob. Please ensure that this is intended.\n"
          ],
          "name": "stderr"
        },
        {
          "output_type": "stream",
          "text": [
            "WARNING:tensorflow:From /usr/local/lib/python3.6/dist-packages/tensorflow_core/python/ops/math_grad.py:1424: where (from tensorflow.python.ops.array_ops) is deprecated and will be removed in a future version.\n",
            "Instructions for updating:\n",
            "Use tf.where in 2.0, which has the same broadcast rule as np.where\n"
          ],
          "name": "stdout"
        },
        {
          "output_type": "stream",
          "text": [
            "WARNING:tensorflow:From /usr/local/lib/python3.6/dist-packages/tensorflow_core/python/ops/math_grad.py:1424: where (from tensorflow.python.ops.array_ops) is deprecated and will be removed in a future version.\n",
            "Instructions for updating:\n",
            "Use tf.where in 2.0, which has the same broadcast rule as np.where\n"
          ],
          "name": "stderr"
        },
        {
          "output_type": "stream",
          "text": [
            "converting...\n"
          ],
          "name": "stdout"
        },
        {
          "output_type": "error",
          "ename": "ValueError",
          "evalue": "ignored",
          "traceback": [
            "\u001b[0;31m---------------------------------------------------------------------------\u001b[0m",
            "\u001b[0;31mValueError\u001b[0m                                Traceback (most recent call last)",
            "\u001b[0;32m<ipython-input-6-d3e45ec7d1c3>\u001b[0m in \u001b[0;36m<module>\u001b[0;34m()\u001b[0m\n\u001b[1;32m     25\u001b[0m \u001b[0;32mif\u001b[0m \u001b[0mos\u001b[0m\u001b[0;34m.\u001b[0m\u001b[0mpath\u001b[0m\u001b[0;34m.\u001b[0m\u001b[0misfile\u001b[0m\u001b[0;34m(\u001b[0m\u001b[0;34m'/content/drive/My Drive/dataset/model.h5'\u001b[0m\u001b[0;34m)\u001b[0m\u001b[0;34m:\u001b[0m\u001b[0;34m\u001b[0m\u001b[0;34m\u001b[0m\u001b[0m\n\u001b[1;32m     26\u001b[0m         \u001b[0mmodel\u001b[0m \u001b[0;34m=\u001b[0m \u001b[0mtf\u001b[0m\u001b[0;34m.\u001b[0m\u001b[0mkeras\u001b[0m\u001b[0;34m.\u001b[0m\u001b[0mmodels\u001b[0m\u001b[0;34m.\u001b[0m\u001b[0mload_model\u001b[0m\u001b[0;34m(\u001b[0m\u001b[0;34m'/content/drive/My Drive/dataset/model.h5'\u001b[0m\u001b[0;34m)\u001b[0m\u001b[0;34m\u001b[0m\u001b[0;34m\u001b[0m\u001b[0m\n\u001b[0;32m---> 27\u001b[0;31m         \u001b[0mconvert_model\u001b[0m\u001b[0;34m(\u001b[0m\u001b[0mmodel\u001b[0m\u001b[0;34m)\u001b[0m\u001b[0;34m\u001b[0m\u001b[0;34m\u001b[0m\u001b[0m\n\u001b[0m\u001b[1;32m     28\u001b[0m \u001b[0;32melse\u001b[0m\u001b[0;34m:\u001b[0m\u001b[0;34m\u001b[0m\u001b[0;34m\u001b[0m\u001b[0m\n\u001b[1;32m     29\u001b[0m         \u001b[0mprint\u001b[0m\u001b[0;34m(\u001b[0m\u001b[0;34m'no model found'\u001b[0m\u001b[0;34m)\u001b[0m\u001b[0;34m\u001b[0m\u001b[0;34m\u001b[0m\u001b[0m\n",
            "\u001b[0;32m<ipython-input-6-d3e45ec7d1c3>\u001b[0m in \u001b[0;36mconvert_model\u001b[0;34m(model)\u001b[0m\n\u001b[1;32m     12\u001b[0m \u001b[0;32mdef\u001b[0m \u001b[0mconvert_model\u001b[0m\u001b[0;34m(\u001b[0m\u001b[0mmodel\u001b[0m\u001b[0;34m)\u001b[0m\u001b[0;34m:\u001b[0m\u001b[0;34m\u001b[0m\u001b[0;34m\u001b[0m\u001b[0m\n\u001b[1;32m     13\u001b[0m         \u001b[0mprint\u001b[0m\u001b[0;34m(\u001b[0m\u001b[0;34m'converting...'\u001b[0m\u001b[0;34m)\u001b[0m\u001b[0;34m\u001b[0m\u001b[0;34m\u001b[0m\u001b[0m\n\u001b[0;32m---> 14\u001b[0;31m         \u001b[0mcoreml_model\u001b[0m \u001b[0;34m=\u001b[0m \u001b[0mcoremltools\u001b[0m\u001b[0;34m.\u001b[0m\u001b[0mconverters\u001b[0m\u001b[0;34m.\u001b[0m\u001b[0mkeras\u001b[0m\u001b[0;34m.\u001b[0m\u001b[0mconvert\u001b[0m\u001b[0;34m(\u001b[0m\u001b[0mmodel\u001b[0m\u001b[0;34m,\u001b[0m\u001b[0minput_names\u001b[0m\u001b[0;34m=\u001b[0m\u001b[0;34m[\u001b[0m\u001b[0;34m'image'\u001b[0m\u001b[0;34m]\u001b[0m\u001b[0;34m,\u001b[0m \u001b[0mclass_labels\u001b[0m\u001b[0;34m=\u001b[0m\u001b[0;34m[\u001b[0m\u001b[0;34m'Melanocytic nevi'\u001b[0m\u001b[0;34m,\u001b[0m \u001b[0;34m'Melanoma'\u001b[0m\u001b[0;34m,\u001b[0m \u001b[0;34m'Benign keratosis-like lesions'\u001b[0m\u001b[0;34m,\u001b[0m \u001b[0;34m'Basal cell carcinoma'\u001b[0m\u001b[0;34m,\u001b[0m \u001b[0;34m'Actinic keratoses'\u001b[0m\u001b[0;34m,\u001b[0m \u001b[0;34m'Vascular lesions'\u001b[0m\u001b[0;34m,\u001b[0m \u001b[0;34m'Dermatofibroma'\u001b[0m\u001b[0;34m]\u001b[0m\u001b[0;34m)\u001b[0m\u001b[0;34m\u001b[0m\u001b[0;34m\u001b[0m\u001b[0m\n\u001b[0m\u001b[1;32m     15\u001b[0m         \u001b[0mcoreml_model\u001b[0m\u001b[0;34m.\u001b[0m\u001b[0mauthor\u001b[0m \u001b[0;34m=\u001b[0m \u001b[0;34m'YOUR NAME'\u001b[0m\u001b[0;34m\u001b[0m\u001b[0;34m\u001b[0m\u001b[0m\n\u001b[1;32m     16\u001b[0m         \u001b[0mcoreml_model\u001b[0m\u001b[0;34m.\u001b[0m\u001b[0mlicense\u001b[0m \u001b[0;34m=\u001b[0m \u001b[0;34m'MIT'\u001b[0m\u001b[0;34m\u001b[0m\u001b[0;34m\u001b[0m\u001b[0m\n",
            "\u001b[0;32m/usr/local/lib/python3.6/dist-packages/coremltools/converters/keras/_keras_converter.py\u001b[0m in \u001b[0;36mconvert\u001b[0;34m(model, input_names, output_names, image_input_names, input_name_shape_dict, is_bgr, red_bias, green_bias, blue_bias, gray_bias, image_scale, class_labels, predicted_feature_name, model_precision, predicted_probabilities_output, add_custom_layers, custom_conversion_functions, input_shapes, output_shapes, respect_trainable)\u001b[0m\n\u001b[1;32m    790\u001b[0m                          \u001b[0minput_shapes\u001b[0m\u001b[0;34m=\u001b[0m\u001b[0minput_shapes\u001b[0m\u001b[0;34m,\u001b[0m\u001b[0;34m\u001b[0m\u001b[0;34m\u001b[0m\u001b[0m\n\u001b[1;32m    791\u001b[0m                          \u001b[0moutput_shapes\u001b[0m\u001b[0;34m=\u001b[0m\u001b[0moutput_shapes\u001b[0m\u001b[0;34m,\u001b[0m\u001b[0;34m\u001b[0m\u001b[0;34m\u001b[0m\u001b[0m\n\u001b[0;32m--> 792\u001b[0;31m                          respect_trainable=respect_trainable)\n\u001b[0m\u001b[1;32m    793\u001b[0m \u001b[0;34m\u001b[0m\u001b[0m\n\u001b[1;32m    794\u001b[0m     \u001b[0;32mreturn\u001b[0m \u001b[0m_MLModel\u001b[0m\u001b[0;34m(\u001b[0m\u001b[0mspec\u001b[0m\u001b[0;34m)\u001b[0m\u001b[0;34m\u001b[0m\u001b[0;34m\u001b[0m\u001b[0m\n",
            "\u001b[0;32m/usr/local/lib/python3.6/dist-packages/coremltools/converters/keras/_keras_converter.py\u001b[0m in \u001b[0;36mconvertToSpec\u001b[0;34m(model, input_names, output_names, image_input_names, input_name_shape_dict, is_bgr, red_bias, green_bias, blue_bias, gray_bias, image_scale, class_labels, predicted_feature_name, model_precision, predicted_probabilities_output, add_custom_layers, custom_conversion_functions, custom_objects, input_shapes, output_shapes, respect_trainable)\u001b[0m\n\u001b[1;32m    577\u001b[0m                                           \u001b[0minput_shapes\u001b[0m\u001b[0;34m=\u001b[0m\u001b[0minput_shapes\u001b[0m\u001b[0;34m,\u001b[0m\u001b[0;34m\u001b[0m\u001b[0;34m\u001b[0m\u001b[0m\n\u001b[1;32m    578\u001b[0m                                           \u001b[0moutput_shapes\u001b[0m\u001b[0;34m=\u001b[0m\u001b[0moutput_shapes\u001b[0m\u001b[0;34m,\u001b[0m\u001b[0;34m\u001b[0m\u001b[0;34m\u001b[0m\u001b[0m\n\u001b[0;32m--> 579\u001b[0;31m                                           respect_trainable=respect_trainable)\n\u001b[0m\u001b[1;32m    580\u001b[0m     \u001b[0;32melse\u001b[0m\u001b[0;34m:\u001b[0m\u001b[0;34m\u001b[0m\u001b[0;34m\u001b[0m\u001b[0m\n\u001b[1;32m    581\u001b[0m         raise RuntimeError(\n",
            "\u001b[0;32m/usr/local/lib/python3.6/dist-packages/coremltools/converters/keras/_keras2_converter.py\u001b[0m in \u001b[0;36m_convert\u001b[0;34m(model, input_names, output_names, image_input_names, input_name_shape_dict, is_bgr, red_bias, green_bias, blue_bias, gray_bias, image_scale, class_labels, predicted_feature_name, predicted_probabilities_output, add_custom_layers, custom_conversion_functions, custom_objects, input_shapes, output_shapes, respect_trainable)\u001b[0m\n\u001b[1;32m    320\u001b[0m \u001b[0;34m\u001b[0m\u001b[0m\n\u001b[1;32m    321\u001b[0m     \u001b[0;31m# Check valid versions\u001b[0m\u001b[0;34m\u001b[0m\u001b[0;34m\u001b[0m\u001b[0;34m\u001b[0m\u001b[0m\n\u001b[0;32m--> 322\u001b[0;31m     \u001b[0m_check_unsupported_layers\u001b[0m\u001b[0;34m(\u001b[0m\u001b[0mmodel\u001b[0m\u001b[0;34m,\u001b[0m \u001b[0madd_custom_layers\u001b[0m\u001b[0;34m)\u001b[0m\u001b[0;34m\u001b[0m\u001b[0;34m\u001b[0m\u001b[0m\n\u001b[0m\u001b[1;32m    323\u001b[0m \u001b[0;34m\u001b[0m\u001b[0m\n\u001b[1;32m    324\u001b[0m     \u001b[0;31m# Build network graph to represent Keras model\u001b[0m\u001b[0;34m\u001b[0m\u001b[0;34m\u001b[0m\u001b[0;34m\u001b[0m\u001b[0m\n",
            "\u001b[0;32m/usr/local/lib/python3.6/dist-packages/coremltools/converters/keras/_keras2_converter.py\u001b[0m in \u001b[0;36m_check_unsupported_layers\u001b[0;34m(model, add_custom_layers)\u001b[0m\n\u001b[1;32m    123\u001b[0m         \u001b[0;32melse\u001b[0m\u001b[0;34m:\u001b[0m\u001b[0;34m\u001b[0m\u001b[0;34m\u001b[0m\u001b[0m\n\u001b[1;32m    124\u001b[0m             \u001b[0;32mif\u001b[0m \u001b[0mtype\u001b[0m\u001b[0;34m(\u001b[0m\u001b[0mlayer\u001b[0m\u001b[0;34m)\u001b[0m \u001b[0;32mnot\u001b[0m \u001b[0;32min\u001b[0m \u001b[0m_KERAS_LAYER_REGISTRY\u001b[0m\u001b[0;34m:\u001b[0m\u001b[0;34m\u001b[0m\u001b[0;34m\u001b[0m\u001b[0m\n\u001b[0;32m--> 125\u001b[0;31m                 \u001b[0;32mraise\u001b[0m \u001b[0mValueError\u001b[0m\u001b[0;34m(\u001b[0m\u001b[0;34m\"Keras layer '%s' not supported. \"\u001b[0m \u001b[0;34m%\u001b[0m \u001b[0mstr\u001b[0m\u001b[0;34m(\u001b[0m\u001b[0mtype\u001b[0m\u001b[0;34m(\u001b[0m\u001b[0mlayer\u001b[0m\u001b[0;34m)\u001b[0m\u001b[0;34m)\u001b[0m\u001b[0;34m)\u001b[0m\u001b[0;34m\u001b[0m\u001b[0;34m\u001b[0m\u001b[0m\n\u001b[0m\u001b[1;32m    126\u001b[0m             \u001b[0;32mif\u001b[0m \u001b[0misinstance\u001b[0m\u001b[0;34m(\u001b[0m\u001b[0mlayer\u001b[0m\u001b[0;34m,\u001b[0m \u001b[0m_keras\u001b[0m\u001b[0;34m.\u001b[0m\u001b[0mlayers\u001b[0m\u001b[0;34m.\u001b[0m\u001b[0mwrappers\u001b[0m\u001b[0;34m.\u001b[0m\u001b[0mTimeDistributed\u001b[0m\u001b[0;34m)\u001b[0m\u001b[0;34m:\u001b[0m\u001b[0;34m\u001b[0m\u001b[0;34m\u001b[0m\u001b[0m\n\u001b[1;32m    127\u001b[0m                 \u001b[0;32mif\u001b[0m \u001b[0mtype\u001b[0m\u001b[0;34m(\u001b[0m\u001b[0mlayer\u001b[0m\u001b[0;34m.\u001b[0m\u001b[0mlayer\u001b[0m\u001b[0;34m)\u001b[0m \u001b[0;32mnot\u001b[0m \u001b[0;32min\u001b[0m \u001b[0m_KERAS_LAYER_REGISTRY\u001b[0m\u001b[0;34m:\u001b[0m\u001b[0;34m\u001b[0m\u001b[0;34m\u001b[0m\u001b[0m\n",
            "\u001b[0;31mValueError\u001b[0m: Keras layer '<class 'tensorflow.python.keras.layers.convolutional.Conv2D'>' not supported. "
          ]
        }
      ]
    },
    {
      "cell_type": "code",
      "metadata": {
        "id": "nJ-U4jDcWSRO",
        "colab_type": "code",
        "outputId": "5863ff7d-eeb0-4f01-f4f6-7d0a1c31fc6c",
        "colab": {
          "base_uri": "https://localhost:8080/",
          "height": 122
        }
      },
      "source": [
        "from google.colab import drive\n",
        "drive.mount('/content/drive')"
      ],
      "execution_count": 0,
      "outputs": [
        {
          "output_type": "stream",
          "text": [
            "Go to this URL in a browser: https://accounts.google.com/o/oauth2/auth?client_id=947318989803-6bn6qk8qdgf4n4g3pfee6491hc0brc4i.apps.googleusercontent.com&redirect_uri=urn%3aietf%3awg%3aoauth%3a2.0%3aoob&response_type=code&scope=email%20https%3a%2f%2fwww.googleapis.com%2fauth%2fdocs.test%20https%3a%2f%2fwww.googleapis.com%2fauth%2fdrive%20https%3a%2f%2fwww.googleapis.com%2fauth%2fdrive.photos.readonly%20https%3a%2f%2fwww.googleapis.com%2fauth%2fpeopleapi.readonly\n",
            "\n",
            "Enter your authorization code:\n",
            "··········\n",
            "Mounted at /content/drive\n"
          ],
          "name": "stdout"
        }
      ]
    }
  ]
}